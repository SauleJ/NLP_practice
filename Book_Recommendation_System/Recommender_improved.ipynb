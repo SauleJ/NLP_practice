{
  "cells": [
    {
      "cell_type": "code",
      "execution_count": null,
      "metadata": {
        "id": "apRE9bF4jSm0"
      },
      "outputs": [],
      "source": [
        "import json\n",
        "import re\n",
        "import string\n",
        "\n",
        "import numpy as np\n",
        "import pandas as pd\n",
        "from scipy.sparse import csr_matrix\n",
        "from sklearn.feature_extraction.text import TfidfVectorizer\n",
        "from sklearn.metrics.pairwise import cosine_similarity, linear_kernel\n",
        "from sklearn.neighbors import NearestNeighbors"
      ]
    },
    {
      "cell_type": "markdown",
      "metadata": {
        "id": "jcm5VRYOjSm2"
      },
      "source": [
        "## Data preprocessing"
      ]
    },
    {
      "cell_type": "code",
      "execution_count": null,
      "metadata": {
        "id": "1TiAftKGjSm4"
      },
      "outputs": [],
      "source": [
        "books_df = pd.read_csv('books_enriched.csv')\n",
        "user_ratings_df = pd.read_csv('ratings.csv')"
      ]
    },
    {
      "cell_type": "code",
      "execution_count": null,
      "metadata": {
        "colab": {
          "base_uri": "https://localhost:8080/",
          "height": 1000
        },
        "id": "vzPEku9djSm4",
        "outputId": "f28c1ada-e528-484d-db01-0d507a220bca"
      },
      "outputs": [],
      "source": [
        "print(f\"Number of books: {books_df.shape[0]}\")\n",
        "print(books_df.info())\n",
        "display(books_df.describe())\n",
        "print(books_df.isnull().sum())"
      ]
    },
    {
      "cell_type": "code",
      "execution_count": null,
      "metadata": {
        "colab": {
          "base_uri": "https://localhost:8080/"
        },
        "id": "epJEZixCjSm5",
        "outputId": "94248c02-0006-4fa1-f781-5f6969cf1b9d"
      },
      "outputs": [],
      "source": [
        "print(user_ratings_df.info())\n",
        "print(f\"\\nNumber of missing values:\\n{user_ratings_df.isnull().sum()}\")"
      ]
    },
    {
      "cell_type": "code",
      "execution_count": null,
      "metadata": {
        "id": "GJslyZHojSm6"
      },
      "outputs": [],
      "source": [
        "def format_author_names(authors_str):\n",
        "    try:\n",
        "        authors_list = json.loads(authors_str.replace(\"'\", '\"'))\n",
        "        return ', '.join(authors_list)\n",
        "    except json.JSONDecodeError:\n",
        "        return authors_str"
      ]
    },
    {
      "cell_type": "code",
      "execution_count": null,
      "metadata": {
        "id": "Nom3MJgRjSm6"
      },
      "outputs": [],
      "source": [
        "books_df.drop(columns=['Unnamed: 0', 'index'], inplace=True)\n",
        "\n",
        "books_df['description'] = books_df['description'].fillna('')\n",
        "books_df['isbn'] = books_df['isbn'].fillna('Unknown')\n",
        "books_df['isbn13'] = books_df['isbn13'].fillna(0).astype(int)\n",
        "books_df['original_publication_year'] = books_df['original_publication_year'].fillna(0).astype(int)\n",
        "books_df['original_title'] = books_df['original_title'].fillna('')\n",
        "books_df['pages'] = books_df['pages'].fillna(0).astype(int)\n",
        "books_df['authors'] = books_df['authors'].apply(format_author_names)\n",
        "books_df['title'] = books_df['title'].str.replace(r\"\\s+\", \" \", regex=True)"
      ]
    },
    {
      "cell_type": "code",
      "execution_count": null,
      "metadata": {
        "id": "32ubxuvGjSm6"
      },
      "outputs": [],
      "source": [
        "def normalize_text(text):\n",
        "    text = text.lower()\n",
        "    text = text.translate(str.maketrans('', '', string.punctuation)) # remove punctuation\n",
        "    return text\n",
        "\n",
        "books_df['normalized_title'] = books_df['title'].apply(normalize_text)"
      ]
    },
    {
      "cell_type": "code",
      "execution_count": null,
      "metadata": {
        "id": "A7Aa767UjSm7"
      },
      "outputs": [],
      "source": [
        "tfidf_vectorizer = TfidfVectorizer(stop_words='english')\n",
        "tfidf_matrix_titles = tfidf_vectorizer.fit_transform(books_df['normalized_title'])"
      ]
    },
    {
      "cell_type": "code",
      "execution_count": null,
      "metadata": {
        "id": "azgLk7OMjSm7"
      },
      "outputs": [],
      "source": [
        "def search_similar_books_by_title(query, df=books_df, tfidf_matrix=tfidf_matrix_titles, top_n=12, similarity_threshold=0.1):\n",
        "    processed = re.sub(\"[^a-zA-Z0-9 ]\", \"\", query.lower())\n",
        "    query_vec = tfidf_vectorizer.transform([processed])\n",
        "\n",
        "    cosine_similarities = linear_kernel(query_vec, tfidf_matrix).flatten()\n",
        "    similar_indices = cosine_similarities.argsort()[::-1]\n",
        "    filtered_indices = [idx for idx in similar_indices if cosine_similarities[idx] >= similarity_threshold]\n",
        "    top_indices = filtered_indices[:top_n]\n",
        "    if not top_indices:\n",
        "        return pd.DataFrame()\n",
        "\n",
        "    result_df = df.iloc[top_indices]\n",
        "    result_df = result_df[['book_id', 'title', 'authors', 'average_rating', 'ratings_count', 'image_url', 'pages']]\n",
        "    return result_df"
      ]
    },
    {
      "cell_type": "code",
      "execution_count": null,
      "metadata": {
        "colab": {
          "base_uri": "https://localhost:8080/",
          "height": 300
        },
        "id": "qeOr9S0YjSm7",
        "outputId": "34ddf690-dc0f-42c1-f0b3-a305694e4c42"
      },
      "outputs": [],
      "source": [
        "similar_books = search_similar_books_by_title(\"1984\")\n",
        "display(similar_books)"
      ]
    },
    {
      "cell_type": "markdown",
      "metadata": {
        "id": "rE2HR7KtjSm8"
      },
      "source": [
        "## Collaborative filtering recommendation system using a k-NN model"
      ]
    },
    {
      "cell_type": "code",
      "execution_count": null,
      "metadata": {
        "colab": {
          "base_uri": "https://localhost:8080/",
          "height": 75
        },
        "id": "5u0Cc1f5jSm8",
        "outputId": "f43de4ec-60ef-4325-e3fa-14f24ef607f4"
      },
      "outputs": [],
      "source": [
        "# Creating a user-item matrix\n",
        "user_item_matrix = user_ratings_df.pivot(index='user_id', columns='book_id', values='rating').fillna(0)\n",
        "\n",
        "# Transform the matrix to a scipy sparse matrix\n",
        "user_item_matrix_sparse = csr_matrix(user_item_matrix.values)\n",
        "\n",
        "# Transpose the matrix so that books are rows\n",
        "user_item_matrix_sparse_T = user_item_matrix_sparse.transpose()\n",
        "\n",
        "# Train model\n",
        "model_knn = NearestNeighbors(metric='cosine', algorithm='brute', n_neighbors=20, n_jobs=-1)\n",
        "model_knn.fit(user_item_matrix_sparse_T)"
      ]
    },
    {
      "cell_type": "code",
      "execution_count": null,
      "metadata": {
        "id": "RBEYKwrtjSm8"
      },
      "outputs": [],
      "source": [
        "# Create a mapping from book IDs to matrix column indices\n",
        "book_id_to_idx = {book_id: idx for idx, book_id in enumerate(user_item_matrix.columns)}\n",
        "\n",
        "def collaborative_recommendations(book_id, top_n=10):\n",
        "    # Check if the book_id is in the mapping\n",
        "    if book_id not in book_id_to_idx:\n",
        "        return pd.DataFrame()  # No recommendations if book_id is not in the mapping\n",
        "\n",
        "    # Get the matrix index corresponding to the book_id\n",
        "    book_idx = book_id_to_idx[book_id]\n",
        "\n",
        "    # Query the model with the transposed matrix\n",
        "    distances, indices = model_knn.kneighbors(user_item_matrix_sparse_T[book_idx].reshape(1, -1), n_neighbors=top_n+1)\n",
        "\n",
        "    # Get the book indices of the neighbors\n",
        "    book_indices = [user_item_matrix.columns[i] for i in indices.flatten()[1:]]\n",
        "\n",
        "    # Return the recommended books\n",
        "    return books_df[books_df['book_id'].isin(book_indices)]"
      ]
    },
    {
      "cell_type": "markdown",
      "metadata": {
        "id": "un6w4SUqjSm9"
      },
      "source": [
        "## Content-based recommendation system using TF-IDF"
      ]
    },
    {
      "cell_type": "code",
      "execution_count": null,
      "metadata": {
        "id": "-REgFIlKjSm9"
      },
      "outputs": [],
      "source": [
        "books_df['combined_features'] = books_df['description'] + \" \" + books_df['genres']\n",
        "\n",
        "tfidf = TfidfVectorizer(stop_words='english')\n",
        "tfidf_matrix = tfidf.fit_transform(books_df['combined_features'])\n",
        "\n",
        "cosine_sim = cosine_similarity(tfidf_matrix, tfidf_matrix)"
      ]
    },
    {
      "cell_type": "code",
      "execution_count": null,
      "metadata": {
        "id": "6ngVCmy9jSm9"
      },
      "outputs": [],
      "source": [
        "def content_based_recommendations(book_id, top_n=10, cosine_sim=cosine_sim, df=books_df):\n",
        "    if book_id not in df['book_id'].values:\n",
        "        return pd.DataFrame()\n",
        "\n",
        "    idx = df.index[df['book_id'] == book_id].tolist()[0]\n",
        "    sim_scores = list(enumerate(cosine_sim[idx]))\n",
        "    sim_scores = sorted(sim_scores, key=lambda x: x[1], reverse=True)\n",
        "\n",
        "    top_n = min(top_n, len(sim_scores) - 1)\n",
        "    sim_scores = sim_scores[1:top_n+1]\n",
        "\n",
        "    book_indices = [i[0] for i in sim_scores]\n",
        "\n",
        "    return df.iloc[book_indices]\n"
      ]
    },
    {
      "cell_type": "markdown",
      "metadata": {
        "id": "OrvEkJV4Qdw1"
      },
      "source": [
        "## Content Based Recommendation System new"
      ]
    },
    {
      "cell_type": "code",
      "execution_count": null,
      "metadata": {
        "colab": {
          "base_uri": "https://localhost:8080/",
          "height": 1000
        },
        "id": "Ck7ycua6T-_8",
        "outputId": "125e6664-5e2f-4cbe-d1d5-388a56928e31"
      },
      "outputs": [],
      "source": [
        "def content(books):\n",
        "    books['content'] = (pd.Series(books[['authors', 'title', 'genres', 'description']]\n",
        "                                  .fillna('')\n",
        "                                  .values.tolist()\n",
        "                                  ).str.join(' '))\n",
        "\n",
        "    tf_content = TfidfVectorizer(analyzer='word', ngram_range=(1, 2), min_df=0, stop_words='english')\n",
        "    tfidf_matrix = tf_content.fit_transform(books['content'])\n",
        "    cosine = linear_kernel(tfidf_matrix, tfidf_matrix)\n",
        "    index = pd.Series(books.index, index=books['book_id'])\n",
        "\n",
        "    return cosine, index\n",
        "\n",
        "def content_recommendation(books, book_id, n=10):\n",
        "    cosine_sim, indices = content(books)\n",
        "    idx = indices[book_id]\n",
        "    sim_scores = list(enumerate(cosine_sim[idx]))\n",
        "    sim_scores = sorted(sim_scores, key=lambda x: x[1], reverse=True)\n",
        "    sim_scores = sim_scores[1:n + 1]\n",
        "    book_indices = [i[0] for i in sim_scores]\n",
        "    return books.iloc[book_indices]\n",
        "\n",
        "content_recommendation(books_df, 13)"
      ]
    },
    {
      "cell_type": "markdown",
      "metadata": {
        "id": "oRaXhDaxN9AM"
      },
      "source": [
        "## Content Based + Popularity-Rating Filter"
      ]
    },
    {
      "cell_type": "code",
      "execution_count": null,
      "metadata": {
        "id": "GsjWUM_8U5GE"
      },
      "outputs": [],
      "source": [
        "def improved_recommendation(book_id, top_n=10):\n",
        "    cosine_sim, indices = content(books_df)\n",
        "    idx = indices[book_id]\n",
        "    sim_scores = list(enumerate(cosine_sim[idx]))\n",
        "    sim_scores = sorted(sim_scores, key=lambda x: x[1], reverse=True)\n",
        "    sim_scores = sim_scores[1:41]\n",
        "    book_indices = [i[0] for i in sim_scores]\n",
        "    books2 = books_df.iloc[book_indices][['book_id', 'title', 'authors', 'average_rating', 'ratings_count']]\n",
        "\n",
        "    v = books2['ratings_count']\n",
        "    m = books2['ratings_count'].quantile(0.75)\n",
        "    R = books2['average_rating']\n",
        "    C = books2['average_rating'].median()\n",
        "    books2['new_score'] = (v / (v + m) * R) + (m / (m + v) * C)\n",
        "\n",
        "    high_rating = books2[books2['ratings_count'] >= m]\n",
        "    high_rating = high_rating.sort_values('new_score', ascending=False)\n",
        "\n",
        "    return books_df.loc[high_rating.index]\n"
      ]
    },
    {
      "cell_type": "code",
      "execution_count": null,
      "metadata": {
        "colab": {
          "base_uri": "https://localhost:8080/",
          "height": 1000
        },
        "id": "KsuQPbgkU8Zu",
        "outputId": "2cc0a268-2eb0-4d44-fdf5-89afe1249434"
      },
      "outputs": [],
      "source": [
        "improved_recommendation(13)"
      ]
    },
    {
      "cell_type": "markdown",
      "metadata": {
        "id": "zHa63zRajSm9"
      },
      "source": [
        "## Hybrid model, combining both systems"
      ]
    },
    {
      "cell_type": "code",
      "execution_count": null,
      "metadata": {
        "id": "_Xkb8VVRjSm9"
      },
      "outputs": [],
      "source": [
        "def hybrid_recommendations(book_id, top_n=10):\n",
        "    content_recommendations = improved_recommendation(book_id, top_n=top_n)\n",
        "    collab_recommendations = collaborative_recommendations(book_id, top_n=top_n)\n",
        "    hybrid_recommendations_df = pd.concat([content_recommendations, collab_recommendations]).drop_duplicates().head(top_n)\n",
        "    return hybrid_recommendations_df"
      ]
    },
    {
      "cell_type": "code",
      "execution_count": null,
      "metadata": {
        "colab": {
          "base_uri": "https://localhost:8080/",
          "height": 1000
        },
        "id": "VUkjSY__LDNg",
        "outputId": "04778f29-fba8-4eeb-e26a-9414b7ae9264"
      },
      "outputs": [],
      "source": [
        "recommended_books = hybrid_recommendations(book_id=13, top_n=20)\n",
        "recommended_books.shape[0]\n",
        "recommended_books"
      ]
    },
    {
      "cell_type": "markdown",
      "metadata": {
        "id": "2dYp7IZDjSm9"
      },
      "source": [
        "## Recommender query testing"
      ]
    },
    {
      "cell_type": "code",
      "execution_count": null,
      "metadata": {
        "colab": {
          "base_uri": "https://localhost:8080/"
        },
        "id": "uHxyekM5jSm9",
        "outputId": "e5605148-63e3-4757-9ee4-b9d5b77b9842"
      },
      "outputs": [],
      "source": [
        "# recommended_books = hybrid_recommendations(book_id=6, top_n=5)\n",
        "recommended_books = content_based_recommendations(book_id=13, top_n=5)\n",
        "json.loads(recommended_books[['book_id', 'title', 'authors', 'average_rating', 'ratings_count', 'image_url', 'description', 'genres']].to_json(orient='records'))"
      ]
    },
    {
      "cell_type": "code",
      "execution_count": null,
      "metadata": {
        "colab": {
          "base_uri": "https://localhost:8080/"
        },
        "id": "QHYoNdrFjSm-",
        "outputId": "7fffbab2-d340-457d-e364-f3f343fe74b2"
      },
      "outputs": [],
      "source": [
        "def get_recommendations_as_json(book_id, model_type='hybrid', top_n=20):\n",
        "    columns_to_include = ['book_id', 'title', 'authors', 'average_rating', 'ratings_count', 'image_url', 'pages']\n",
        "    if model_type == 'hybrid':\n",
        "        recommendations_df = hybrid_recommendations(book_id, top_n)\n",
        "    elif model_type == 'collaborative':\n",
        "        recommendations_df = collaborative_recommendations(book_id, top_n)\n",
        "    elif model_type == 'content':\n",
        "        recommendations_df = content_based_recommendations(book_id, top_n)\n",
        "    elif model_type == 'improved':\n",
        "        recommendations_df = improved_recommendation(book_id, top_n)\n",
        "    else:\n",
        "        return \"Invalid model type\"\n",
        "\n",
        "    recommendations_df = recommendations_df[columns_to_include]\n",
        "    # Convert DataFrame to JSON\n",
        "    recommendations_json = recommendations_df.to_json(orient='records')\n",
        "    return recommendations_json\n",
        "\n",
        "# Example usage\n",
        "json_output = get_recommendations_as_json(book_id=13, model_type='improved', top_n=10)\n",
        "json.loads(json_output)"
      ]
    }
  ],
  "metadata": {
    "colab": {
      "collapsed_sections": [
        "rE2HR7KtjSm8",
        "un6w4SUqjSm9"
      ],
      "provenance": []
    },
    "kernelspec": {
      "display_name": "Python 3",
      "language": "python",
      "name": "python3"
    },
    "language_info": {
      "codemirror_mode": {
        "name": "ipython",
        "version": 3
      },
      "file_extension": ".py",
      "mimetype": "text/x-python",
      "name": "python",
      "nbconvert_exporter": "python",
      "pygments_lexer": "ipython3",
      "version": "3.10.0"
    }
  },
  "nbformat": 4,
  "nbformat_minor": 0
}
