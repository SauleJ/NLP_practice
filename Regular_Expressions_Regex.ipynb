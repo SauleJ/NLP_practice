{
 "cells": [
  {
   "attachments": {},
   "cell_type": "markdown",
   "metadata": {},
   "source": [
    "## Regular Expressions(Regex)\n",
    "\n",
    "This Python script showcases various text processing tasks using regular expressions, a fundamental tool in Natural Language Processing (NLP). Each section of the script demonstrates a specific regex pattern to perform a different task on textual data.\n",
    "\n",
    "1. Find all numbers in text:\n",
    "   This section uses a regex pattern to find all numeric digits in the given text and prints them.\n",
    "\n",
    "2. Find all non-numeric characters in text:\n",
    "   Here, a regex pattern is used to find all non-numeric characters in the text, excluding digits, and prints them.\n",
    "\n",
    "3. Find all punctuation marks in text:\n",
    "   Using a regex pattern, this section identifies all punctuation marks (e.g., '.', ',', '?', '!') in the text and prints them.\n",
    "\n",
    "4. Remove all punctuation marks from text:\n",
    "   This part utilizes the `re.sub()` function to remove all punctuation marks from the text and prints the cleaned text.\n",
    "\n",
    "5. Remove all spaces from text:\n",
    "   Using a regex pattern, this section removes all whitespace characters (spaces, tabs, newlines) from the text and prints the result.\n",
    "\n",
    "6. Find all hyphenated words in text:\n",
    "   Here, a regex pattern is employed to find all words containing hyphens (\"-\") in the text and prints them.\n",
    "\n",
    "7. Extract all email addresses from text:\n",
    "   This section uses a regex pattern to extract all email addresses from the text and prints them.\n",
    "\n",
    "8. Extract all usernames from email addresses:\n",
    "   Building upon the previous section, this part extracts all usernames (before '@') from the email addresses found in the text and prints them.\n"
   ]
  },
  {
   "attachments": {},
   "cell_type": "markdown",
   "metadata": {},
   "source": [
    "#### Import a Python library for handling regular expressions"
   ]
  },
  {
   "cell_type": "code",
   "execution_count": 8,
   "metadata": {},
   "outputs": [],
   "source": [
    "import re"
   ]
  },
  {
   "attachments": {},
   "cell_type": "markdown",
   "metadata": {},
   "source": [
    "#### 1. Find all numbers in text"
   ]
  },
  {
   "cell_type": "code",
   "execution_count": 10,
   "metadata": {
    "scrolled": true
   },
   "outputs": [
    {
     "name": "stdout",
     "output_type": "stream",
     "text": [
      "1970\n",
      "1975\n",
      "1978\n",
      "1978\n",
      "1976\n",
      "1977\n",
      "1979\n",
      "1981\n"
     ]
    }
   ],
   "source": [
    "\n",
    "text = \"During the 1970s, many programmers began to write conceptual ontologies, which structured real-world information into computer-understandable data. Examples are MARGIE (Schank, 1975), SAM (Cullingford, 1978), PAM (Wilensky, 1978), TaleSpin (Meehan, 1976), QUALM (Lehnert, 1977), Politics (Carbonell, 1979), and Plot Units (Lehnert 1981). During this time, the first many chatterbots were written (e.g., PARRY).\"\n",
    "\n",
    "digits = re.findall(r'\\d+', text)\n",
    "\n",
    "for digit in digits:\n",
    "    print(digit)\n"
   ]
  },
  {
   "attachments": {},
   "cell_type": "markdown",
   "metadata": {},
   "source": [
    "#### 2. Find all non-numeric characters in text"
   ]
  },
  {
   "cell_type": "code",
   "execution_count": 11,
   "metadata": {},
   "outputs": [
    {
     "name": "stdout",
     "output_type": "stream",
     "text": [
      "During the s, many programmers began to write conceptual ontologies, which structured real-world information into computer-understandable data. Examples are MARGIE (Schank, ), SAM (Cullingford, ), PAM (Wilensky, ), TaleSpin (Meehan, ), QUALM (Lehnert, ), Politics (Carbonell, ), and Plot Units (Lehnert ). During this time, the first many chatterbots were written (e.g., PARRY)."
     ]
    }
   ],
   "source": [
    "\n",
    "text = \"During the 1970s, many programmers began to write conceptual ontologies, which structured real-world information into computer-understandable data. Examples are MARGIE (Schank, 1975), SAM (Cullingford, 1978), PAM (Wilensky, 1978), TaleSpin (Meehan, 1976), QUALM (Lehnert, 1977), Politics (Carbonell, 1979), and Plot Units (Lehnert 1981). During this time, the first many chatterbots were written (e.g., PARRY).\"\n",
    "\n",
    "symbols = re.findall(r'\\D', text)\n",
    "\n",
    "for symbol in symbols:\n",
    "    print(symbol, end='')"
   ]
  },
  {
   "attachments": {},
   "cell_type": "markdown",
   "metadata": {},
   "source": [
    "#### 3. Find all punctuation marks in text"
   ]
  },
  {
   "cell_type": "code",
   "execution_count": 12,
   "metadata": {},
   "outputs": [
    {
     "name": "stdout",
     "output_type": "stream",
     "text": [
      "['.', ',', '!', '?']\n"
     ]
    }
   ],
   "source": [
    "\n",
    "text = \"Sveiki. Šaunu, kad susirinkote!?\"\n",
    "\n",
    "PunctuationMark = re.findall(r'[.,!?]', text)\n",
    "\n",
    "print(PunctuationMark)"
   ]
  },
  {
   "attachments": {},
   "cell_type": "markdown",
   "metadata": {},
   "source": [
    "#### 4. Remove all punctuation marks from text"
   ]
  },
  {
   "cell_type": "code",
   "execution_count": 13,
   "metadata": {},
   "outputs": [
    {
     "name": "stdout",
     "output_type": "stream",
     "text": [
      "Sveiki Šaunu kad susirinkote\n"
     ]
    }
   ],
   "source": [
    "\n",
    "text = \"Sveiki. Šaunu, kad susirinkote!?\"\n",
    "\n",
    "without_separation_sign = re.sub(r'[.,!?]', '', text)\n",
    "\n",
    "print(without_separation_sign)"
   ]
  },
  {
   "attachments": {},
   "cell_type": "markdown",
   "metadata": {},
   "source": [
    "#### 5. Remove all spaces from text"
   ]
  },
  {
   "cell_type": "code",
   "execution_count": 14,
   "metadata": {},
   "outputs": [
    {
     "name": "stdout",
     "output_type": "stream",
     "text": [
      "Sveiki.Šaunu,kadsusirinkote!?\n"
     ]
    }
   ],
   "source": [
    "\n",
    "text = \"Sveiki. Šaunu, kad susirinkote!?\"\n",
    "\n",
    "without_spaces = re.sub(r'\\s', '', text)\n",
    "\n",
    "print(without_spaces)"
   ]
  },
  {
   "attachments": {},
   "cell_type": "markdown",
   "metadata": {},
   "source": [
    "#### 6. Find all hyphenated words in text"
   ]
  },
  {
   "cell_type": "code",
   "execution_count": 15,
   "metadata": {},
   "outputs": [
    {
     "name": "stdout",
     "output_type": "stream",
     "text": [
      "['1-osios', '3-osios']\n"
     ]
    }
   ],
   "source": [
    "\n",
    "text = \"Paskelbti 1-osios ir 3-osios vietų laimėtojai\"\n",
    "\n",
    "dashes = re.findall(r'\\w+-\\w+', text)\n",
    "\n",
    "print(dashes)"
   ]
  },
  {
   "attachments": {},
   "cell_type": "markdown",
   "metadata": {},
   "source": [
    "#### 7. Extract all email addresses from text"
   ]
  },
  {
   "cell_type": "code",
   "execution_count": 16,
   "metadata": {},
   "outputs": [
    {
     "name": "stdout",
     "output_type": "stream",
     "text": [
      "['info@mano.lt.', 'uzdaviniai@mano.lt.', 'pagalba@mano.lt.']\n"
     ]
    }
   ],
   "source": [
    "\n",
    "text = \"Sveiki, visas bendras užklausas siųskite adresu info@mano.lt. Jei turite klausimų, susijusių su uždavinių sprendimu, siųskite juos adresu uzdaviniai@mano.lt. Dėl techninių problemų kreipkitės adresu pagalba@mano.lt.\"\n",
    "\n",
    "addresses = re.findall(r'\\S+@\\S+', text)\n",
    "\n",
    "print(addresses)"
   ]
  },
  {
   "attachments": {},
   "cell_type": "markdown",
   "metadata": {},
   "source": [
    "#### 8. Extract all usernames from email addresses"
   ]
  },
  {
   "cell_type": "code",
   "execution_count": 17,
   "metadata": {
    "scrolled": false
   },
   "outputs": [
    {
     "name": "stdout",
     "output_type": "stream",
     "text": [
      "['info', 'uzdaviniai', 'pagalba']\n"
     ]
    }
   ],
   "source": [
    "\n",
    "text = \"Sveiki, visas bendras užklausas siųskite adresu info@mano.lt. Jei turite klausimų, susijusių su uždavinių sprendimu, siųskite juos adresu uzdaviniai@mano.lt. Dėl techninių problemų kreipkitės adresu pagalba@mano.lt.\"\n",
    "\n",
    "addresses = re.findall(r'(\\w+)@\\w+\\.\\w+', text)\n",
    "\n",
    "print(addresses)"
   ]
  }
 ],
 "metadata": {
  "kernelspec": {
   "display_name": "Python 3 (ipykernel)",
   "language": "python",
   "name": "python3"
  },
  "language_info": {
   "codemirror_mode": {
    "name": "ipython",
    "version": 3
   },
   "file_extension": ".py",
   "mimetype": "text/x-python",
   "name": "python",
   "nbconvert_exporter": "python",
   "pygments_lexer": "ipython3",
   "version": "3.12.0"
  }
 },
 "nbformat": 4,
 "nbformat_minor": 2
}
