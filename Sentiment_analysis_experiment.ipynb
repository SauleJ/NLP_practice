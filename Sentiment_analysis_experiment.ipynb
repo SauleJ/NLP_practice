{
 "cells": [
  {
   "cell_type": "markdown",
   "id": "f61f35e8",
   "metadata": {},
   "source": [
    "### Sentiment Analysis Experiment using \"moviereviews2.tsv\" Dataset\n",
    "1. Check if the dataset contains empty values, unnecessary spaces, etc.\n",
    "2. Based on the selected dataset, determine the accuracy of sentiment analysis using VADER and TextBlob lexicons. Also, calculate the precision, recall, and F1-score of VADER and TextBlob models.\n",
    "3. Create a machine learning sentiment classification model that automatically detects positive and negative sentiments in text.\n",
    "   Steps:\n",
    "   - Split the dataset into training and testing sets.\n",
    "   - Extract numerical features (choose features at your discretion).\n",
    "   - Train the selected model (K-nearest neighbors - KNN).\n",
    "   - Evaluate the model's accuracy. Also, calculate the precision, recall, and F1-score of VADER and TextBlob models."
   ]
  },
  {
   "cell_type": "markdown",
   "id": "47d4ae20",
   "metadata": {},
   "source": [
    "#### MoviesRewies2 Dataset Preparation"
   ]
  },
  {
   "cell_type": "code",
   "execution_count": 5,
   "id": "31d809fd",
   "metadata": {},
   "outputs": [
    {
     "name": "stdout",
     "output_type": "stream",
     "text": [
      "Empty values:\n",
      "label      0\n",
      "review    20\n",
      "dtype: int64\n",
      "\n",
      "Label Counts:\n",
      "label\n",
      "pos    3000\n",
      "neg    3000\n",
      "Name: count, dtype: int64\n",
      "\n",
      "Total Reviews: 6000\n",
      "\n",
      "  ///////\n",
      "\n",
      "Empty values:\n",
      "label     0\n",
      "review    0\n",
      "dtype: int64\n",
      "Label Counts:\n",
      "label\n",
      "pos    2990\n",
      "neg    2990\n",
      "Name: count, dtype: int64\n",
      "Total Reviews: 5980\n",
      "\n",
      "Whitespace Check:\n",
      "review\n",
      "False    5980\n",
      "Name: count, dtype: int64\n"
     ]
    },
    {
     "data": {
      "text/html": [
       "<div>\n",
       "<style scoped>\n",
       "    .dataframe tbody tr th:only-of-type {\n",
       "        vertical-align: middle;\n",
       "    }\n",
       "\n",
       "    .dataframe tbody tr th {\n",
       "        vertical-align: top;\n",
       "    }\n",
       "\n",
       "    .dataframe thead th {\n",
       "        text-align: right;\n",
       "    }\n",
       "</style>\n",
       "<table border=\"1\" class=\"dataframe\">\n",
       "  <thead>\n",
       "    <tr style=\"text-align: right;\">\n",
       "      <th></th>\n",
       "      <th>label</th>\n",
       "      <th>review</th>\n",
       "    </tr>\n",
       "  </thead>\n",
       "  <tbody>\n",
       "    <tr>\n",
       "      <th>0</th>\n",
       "      <td>pos</td>\n",
       "      <td>I loved this movie and will watch it again. Or...</td>\n",
       "    </tr>\n",
       "    <tr>\n",
       "      <th>1</th>\n",
       "      <td>pos</td>\n",
       "      <td>A warm, touching movie that has a fantasy-like...</td>\n",
       "    </tr>\n",
       "    <tr>\n",
       "      <th>2</th>\n",
       "      <td>pos</td>\n",
       "      <td>I was not expecting the powerful filmmaking ex...</td>\n",
       "    </tr>\n",
       "    <tr>\n",
       "      <th>3</th>\n",
       "      <td>neg</td>\n",
       "      <td>This so-called \"documentary\" tries to tell tha...</td>\n",
       "    </tr>\n",
       "    <tr>\n",
       "      <th>4</th>\n",
       "      <td>pos</td>\n",
       "      <td>This show has been my escape from reality for ...</td>\n",
       "    </tr>\n",
       "  </tbody>\n",
       "</table>\n",
       "</div>"
      ],
      "text/plain": [
       "  label                                             review\n",
       "0   pos  I loved this movie and will watch it again. Or...\n",
       "1   pos  A warm, touching movie that has a fantasy-like...\n",
       "2   pos  I was not expecting the powerful filmmaking ex...\n",
       "3   neg  This so-called \"documentary\" tries to tell tha...\n",
       "4   pos  This show has been my escape from reality for ..."
      ]
     },
     "execution_count": 5,
     "metadata": {},
     "output_type": "execute_result"
    }
   ],
   "source": [
    "import pandas as pd\n",
    "import numpy as np\n",
    "import spacy\n",
    "from nltk.sentiment.vader import SentimentIntensityAnalyzer\n",
    "from sklearn.metrics import accuracy_score, precision_score, recall_score, f1_score\n",
    "from textblob import TextBlob\n",
    "from sklearn.model_selection import train_test_split\n",
    "from sklearn.pipeline import Pipeline\n",
    "from sklearn.feature_extraction.text import TfidfVectorizer\n",
    "from sklearn.neighbors import KNeighborsClassifier\n",
    "from sklearn import metrics\n",
    "\n",
    "# Load the dataset\n",
    "data = pd.read_csv('moviereviews2.tsv', sep='\\t')\n",
    "\n",
    "# Check for empty values\n",
    "print(\"Empty values:\")\n",
    "print(data.isnull().sum())\n",
    "\n",
    "# Display label counts\n",
    "print(\"\\nLabel Counts:\")\n",
    "print(data['label'].value_counts())\n",
    "\n",
    "# Show total number of reviews\n",
    "print(\"\\nTotal Reviews:\", len(data))\n",
    "\n",
    "\n",
    "# Remove rows with null values in the 'review' column\n",
    "fixed_data = data.dropna(subset=['review'])\n",
    "\n",
    "print(\"\\n  ///////\")\n",
    "\n",
    "# Verify that null reviews have been removed\n",
    "print(\"\\nEmpty values:\")\n",
    "print(fixed_data.isnull().sum())\n",
    "print(\"Label Counts:\")\n",
    "print(fixed_data['label'].value_counts())\n",
    "print(\"Total Reviews:\", len(fixed_data))\n",
    "\n",
    "\n",
    "# Check for unnecessary spaces\n",
    "whitespace_check = fixed_data['review'].apply(lambda x: x.isspace())\n",
    "print(\"\\nWhitespace Check:\")\n",
    "print(whitespace_check.value_counts())\n",
    "\n",
    "fixed_data.head()\n"
   ]
  },
  {
   "cell_type": "markdown",
   "metadata": {},
   "source": [
    "#### Vader Sentiment Analysis"
   ]
  },
  {
   "cell_type": "code",
   "execution_count": 2,
   "id": "8df58afb",
   "metadata": {},
   "outputs": [
    {
     "data": {
      "text/html": [
       "<div>\n",
       "<style scoped>\n",
       "    .dataframe tbody tr th:only-of-type {\n",
       "        vertical-align: middle;\n",
       "    }\n",
       "\n",
       "    .dataframe tbody tr th {\n",
       "        vertical-align: top;\n",
       "    }\n",
       "\n",
       "    .dataframe thead th {\n",
       "        text-align: right;\n",
       "    }\n",
       "</style>\n",
       "<table border=\"1\" class=\"dataframe\">\n",
       "  <thead>\n",
       "    <tr style=\"text-align: right;\">\n",
       "      <th></th>\n",
       "      <th>label</th>\n",
       "      <th>review</th>\n",
       "      <th>scores</th>\n",
       "      <th>compound</th>\n",
       "      <th>comp_score</th>\n",
       "    </tr>\n",
       "  </thead>\n",
       "  <tbody>\n",
       "    <tr>\n",
       "      <th>0</th>\n",
       "      <td>pos</td>\n",
       "      <td>I loved this movie and will watch it again. Or...</td>\n",
       "      <td>{'neg': 0.062, 'neu': 0.695, 'pos': 0.243, 'co...</td>\n",
       "      <td>0.8720</td>\n",
       "      <td>pos</td>\n",
       "    </tr>\n",
       "    <tr>\n",
       "      <th>1</th>\n",
       "      <td>pos</td>\n",
       "      <td>A warm, touching movie that has a fantasy-like...</td>\n",
       "      <td>{'neg': 0.033, 'neu': 0.783, 'pos': 0.184, 'co...</td>\n",
       "      <td>0.9549</td>\n",
       "      <td>pos</td>\n",
       "    </tr>\n",
       "    <tr>\n",
       "      <th>2</th>\n",
       "      <td>pos</td>\n",
       "      <td>I was not expecting the powerful filmmaking ex...</td>\n",
       "      <td>{'neg': 0.097, 'neu': 0.795, 'pos': 0.108, 'co...</td>\n",
       "      <td>0.7201</td>\n",
       "      <td>pos</td>\n",
       "    </tr>\n",
       "    <tr>\n",
       "      <th>3</th>\n",
       "      <td>neg</td>\n",
       "      <td>This so-called \"documentary\" tries to tell tha...</td>\n",
       "      <td>{'neg': 0.116, 'neu': 0.832, 'pos': 0.052, 'co...</td>\n",
       "      <td>-0.9821</td>\n",
       "      <td>neg</td>\n",
       "    </tr>\n",
       "    <tr>\n",
       "      <th>4</th>\n",
       "      <td>pos</td>\n",
       "      <td>This show has been my escape from reality for ...</td>\n",
       "      <td>{'neg': 0.028, 'neu': 0.769, 'pos': 0.203, 'co...</td>\n",
       "      <td>0.9935</td>\n",
       "      <td>pos</td>\n",
       "    </tr>\n",
       "  </tbody>\n",
       "</table>\n",
       "</div>"
      ],
      "text/plain": [
       "  label                                             review  \\\n",
       "0   pos  I loved this movie and will watch it again. Or...   \n",
       "1   pos  A warm, touching movie that has a fantasy-like...   \n",
       "2   pos  I was not expecting the powerful filmmaking ex...   \n",
       "3   neg  This so-called \"documentary\" tries to tell tha...   \n",
       "4   pos  This show has been my escape from reality for ...   \n",
       "\n",
       "                                              scores  compound comp_score  \n",
       "0  {'neg': 0.062, 'neu': 0.695, 'pos': 0.243, 'co...    0.8720        pos  \n",
       "1  {'neg': 0.033, 'neu': 0.783, 'pos': 0.184, 'co...    0.9549        pos  \n",
       "2  {'neg': 0.097, 'neu': 0.795, 'pos': 0.108, 'co...    0.7201        pos  \n",
       "3  {'neg': 0.116, 'neu': 0.832, 'pos': 0.052, 'co...   -0.9821        neg  \n",
       "4  {'neg': 0.028, 'neu': 0.769, 'pos': 0.203, 'co...    0.9935        pos  "
      ]
     },
     "execution_count": 2,
     "metadata": {},
     "output_type": "execute_result"
    }
   ],
   "source": [
    "\n",
    "vader_data = fixed_data.copy()\n",
    "\n",
    "vader_data.loc[:, 'scores'] = vader_data['review'].apply(lambda review: SentimentIntensityAnalyzer().polarity_scores(review))\n",
    "vader_data.loc[:, 'compound'] = vader_data['review'].apply(lambda review: SentimentIntensityAnalyzer().polarity_scores(review)['compound'])\n",
    "\n",
    "# Determine sentiment scores\n",
    "vader_data['comp_score'] = 'pos'\n",
    "vader_data.loc[vader_data['compound'] <= -0.05, 'comp_score'] = 'neg'\n",
    "vader_data.loc[(vader_data['compound'] > -0.05) & (vader_data['compound'] < 0.05), 'comp_score'] = 'neu'\n",
    "\n",
    "vader_data.head()"
   ]
  },
  {
   "cell_type": "markdown",
   "metadata": {},
   "source": [
    "##### Calculating accuracy, precision, recall, and F1-score with Vader"
   ]
  },
  {
   "cell_type": "code",
   "execution_count": 3,
   "metadata": {},
   "outputs": [
    {
     "name": "stdout",
     "output_type": "stream",
     "text": [
      "Vader Accuracy: 0.7277591973244147, Precision: 0.7574199030583763, Recall: 0.7277591973244147, F1-score: 0.7245674966067225\n"
     ]
    }
   ],
   "source": [
    "\n",
    "acc_score = accuracy_score(vader_data['label'], vader_data['comp_score'])\n",
    "pre_score = precision_score(vader_data['label'], vader_data['comp_score'], average='weighted')\n",
    "rec_score = recall_score(vader_data['label'], vader_data['comp_score'], average='weighted', zero_division=1)\n",
    "f_score = f1_score(vader_data['label'], vader_data['comp_score'], average='weighted')\n",
    "\n",
    "print(f\"Vader Accuracy: {acc_score}, Precision: {pre_score}, Recall: {rec_score}, F1-score: {f_score}\")\n"
   ]
  },
  {
   "cell_type": "markdown",
   "metadata": {},
   "source": [
    "#### TextBlob Sentiment Analysis"
   ]
  },
  {
   "cell_type": "code",
   "execution_count": 8,
   "metadata": {},
   "outputs": [
    {
     "data": {
      "text/html": [
       "<div>\n",
       "<style scoped>\n",
       "    .dataframe tbody tr th:only-of-type {\n",
       "        vertical-align: middle;\n",
       "    }\n",
       "\n",
       "    .dataframe tbody tr th {\n",
       "        vertical-align: top;\n",
       "    }\n",
       "\n",
       "    .dataframe thead th {\n",
       "        text-align: right;\n",
       "    }\n",
       "</style>\n",
       "<table border=\"1\" class=\"dataframe\">\n",
       "  <thead>\n",
       "    <tr style=\"text-align: right;\">\n",
       "      <th></th>\n",
       "      <th>label</th>\n",
       "      <th>review</th>\n",
       "      <th>polarity</th>\n",
       "      <th>subjectivity</th>\n",
       "      <th>comp_score</th>\n",
       "    </tr>\n",
       "  </thead>\n",
       "  <tbody>\n",
       "    <tr>\n",
       "      <th>0</th>\n",
       "      <td>pos</td>\n",
       "      <td>I loved this movie and will watch it again. Or...</td>\n",
       "      <td>0.615000</td>\n",
       "      <td>0.570000</td>\n",
       "      <td>pos</td>\n",
       "    </tr>\n",
       "    <tr>\n",
       "      <th>1</th>\n",
       "      <td>pos</td>\n",
       "      <td>A warm, touching movie that has a fantasy-like...</td>\n",
       "      <td>0.373333</td>\n",
       "      <td>0.598889</td>\n",
       "      <td>pos</td>\n",
       "    </tr>\n",
       "    <tr>\n",
       "      <th>2</th>\n",
       "      <td>pos</td>\n",
       "      <td>I was not expecting the powerful filmmaking ex...</td>\n",
       "      <td>0.100889</td>\n",
       "      <td>0.375302</td>\n",
       "      <td>pos</td>\n",
       "    </tr>\n",
       "    <tr>\n",
       "      <th>3</th>\n",
       "      <td>neg</td>\n",
       "      <td>This so-called \"documentary\" tries to tell tha...</td>\n",
       "      <td>0.039785</td>\n",
       "      <td>0.436290</td>\n",
       "      <td>pos</td>\n",
       "    </tr>\n",
       "    <tr>\n",
       "      <th>4</th>\n",
       "      <td>pos</td>\n",
       "      <td>This show has been my escape from reality for ...</td>\n",
       "      <td>0.202484</td>\n",
       "      <td>0.534265</td>\n",
       "      <td>pos</td>\n",
       "    </tr>\n",
       "  </tbody>\n",
       "</table>\n",
       "</div>"
      ],
      "text/plain": [
       "  label                                             review  polarity  \\\n",
       "0   pos  I loved this movie and will watch it again. Or...  0.615000   \n",
       "1   pos  A warm, touching movie that has a fantasy-like...  0.373333   \n",
       "2   pos  I was not expecting the powerful filmmaking ex...  0.100889   \n",
       "3   neg  This so-called \"documentary\" tries to tell tha...  0.039785   \n",
       "4   pos  This show has been my escape from reality for ...  0.202484   \n",
       "\n",
       "   subjectivity comp_score  \n",
       "0      0.570000        pos  \n",
       "1      0.598889        pos  \n",
       "2      0.375302        pos  \n",
       "3      0.436290        pos  \n",
       "4      0.534265        pos  "
      ]
     },
     "execution_count": 8,
     "metadata": {},
     "output_type": "execute_result"
    }
   ],
   "source": [
    "\n",
    "nlp = spacy.load(\"en_core_web_sm\")\n",
    "\n",
    "def get_textblob_score(text):\n",
    "    analysis = TextBlob(text)\n",
    "    if analysis.sentiment.polarity > 0:\n",
    "        return 'pos'\n",
    "    else:\n",
    "        return 'neg'\n",
    "\n",
    "TextBlob_data = fixed_data\n",
    "TextBlob_data.loc[:, 'polarity'] = TextBlob_data['review'].apply(lambda x: TextBlob(x).sentiment.polarity)\n",
    "TextBlob_data.loc[:, 'subjectivity'] = TextBlob_data['review'].apply(lambda x: TextBlob(x).sentiment.subjectivity)\n",
    "TextBlob_data.loc[:, 'comp_score'] = TextBlob_data['review'].apply(get_textblob_score)\n",
    "\n",
    "TextBlob_data.head()"
   ]
  },
  {
   "cell_type": "markdown",
   "metadata": {},
   "source": [
    "##### Calculating accuracy, precision, recall, and F1-score with TextBlob"
   ]
  },
  {
   "cell_type": "code",
   "execution_count": 9,
   "metadata": {},
   "outputs": [
    {
     "name": "stdout",
     "output_type": "stream",
     "text": [
      "TextBlob accuracy_score: 0.7389632107023412, precision_score: 0.7926858907605404, recall_score: 0.7389632107023412, f1_score: 0.7264087489832409\n"
     ]
    }
   ],
   "source": [
    "\n",
    "acc_score_textblob = accuracy_score(TextBlob_data['label'], TextBlob_data['comp_score'])\n",
    "pre_score_textblob = precision_score(TextBlob_data['label'], TextBlob_data['comp_score'], average='weighted')\n",
    "rec_score_textblob = recall_score(TextBlob_data['label'], TextBlob_data['comp_score'], average='weighted', zero_division=1)\n",
    "f_score_textblob = f1_score(TextBlob_data['label'], TextBlob_data['comp_score'], average='weighted')\n",
    "\n",
    "print(f\"TextBlob accuracy_score: {acc_score_textblob}, precision_score: {pre_score_textblob}, recall_score: {rec_score_textblob}, f1_score: {f_score_textblob}\")"
   ]
  },
  {
   "cell_type": "markdown",
   "metadata": {},
   "source": [
    "#### Data Splitting"
   ]
  },
  {
   "cell_type": "code",
   "execution_count": 10,
   "metadata": {},
   "outputs": [
    {
     "name": "stdout",
     "output_type": "stream",
     "text": [
      "(4485,)\n",
      "(4485,)\n"
     ]
    }
   ],
   "source": [
    "\n",
    "X = fixed_data['review']\n",
    "Y = fixed_data['label']\n",
    "X_train, X_test, Y_train, Y_test = train_test_split(X,Y, test_size=0.25, random_state=42)\n",
    "\n",
    "print(X_train.shape)\n",
    "print(Y_train.shape)"
   ]
  },
  {
   "cell_type": "markdown",
   "id": "91a5b047",
   "metadata": {},
   "source": [
    "#### Model Training and Evaluation"
   ]
  },
  {
   "cell_type": "code",
   "execution_count": 12,
   "metadata": {},
   "outputs": [
    {
     "name": "stdout",
     "output_type": "stream",
     "text": [
      "0.8187290969899665\n"
     ]
    }
   ],
   "source": [
    "\n",
    "knn = Pipeline([('tfidf', TfidfVectorizer()), ('clf', KNeighborsClassifier())])\n",
    "\n",
    "knn.fit(X_train, Y_train)\n",
    "predictions = knn.predict(X_test)\n",
    "print(metrics.accuracy_score(Y_test, predictions))"
   ]
  }
 ],
 "metadata": {
  "kernelspec": {
   "display_name": "Python 3 (ipykernel)",
   "language": "python",
   "name": "python3"
  },
  "language_info": {
   "codemirror_mode": {
    "name": "ipython",
    "version": 3
   },
   "file_extension": ".py",
   "mimetype": "text/x-python",
   "name": "python",
   "nbconvert_exporter": "python",
   "pygments_lexer": "ipython3",
   "version": "3.8.18"
  }
 },
 "nbformat": 4,
 "nbformat_minor": 5
}
