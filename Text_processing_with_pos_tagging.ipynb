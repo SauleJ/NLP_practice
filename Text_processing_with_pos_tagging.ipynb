{
 "cells": [
  {
   "cell_type": "markdown",
   "metadata": {},
   "source": [
    "This Python script conducts Part-of-Speech (POS) analysis on a given text describing the Faculty of Mathematics and Informatics at Vilnius University. It utilizes both SpaCy and NLTK libraries to perform various POS tagging tasks, providing insights into the linguistic properties and structures of the text.\n",
    "\n",
    "1.Printing POS Tags for the Third Sentence:\n",
    "Utilizes SpaCy to print the units (tokens) of the third sentence along with their POS tags, fine-grained TAG tags, and their descriptions.\n",
    "\n",
    "2.Providing POS Tag Frequencies:\n",
    "Calculates and lists the frequencies of POS tags in the text.\n",
    "\n",
    "3.Printing Adjectives:\n",
    "Prints all adjectives found in the text.\n",
    "\n",
    "4.Printing Prepositions:\n",
    "Prints all prepositions found in the text.\n",
    "\n",
    "5.Calculating Percentage of Verbs:\n",
    "Determines the percentage of tokens representing verbs in the text.\n",
    "\n",
    "6.Printing Tokens and POS Tags of the Third Sentence (Using NLTK):\n",
    "Prints the tokens and their POS tags for the third sentence using NLTK.\n",
    "\n",
    "7.Removing Cardinal Numbers:\n",
    "Removes all cardinal numbers from the given text using NLTK."
   ]
  },
  {
   "cell_type": "code",
   "execution_count": 3,
   "metadata": {},
   "outputs": [],
   "source": [
    "import spacy\n",
    "\n",
    "text=\"The Faculty of Mathematics and Informatics of Vilnius University delivers teaching and research through four institutes: Data Science and Digital Technologies, Computer Science, Mathematics, and Applied Mathematics. The Faculty offers 9 bachelor’s and 6 master’s courses. Doctoral studies are conducted in the areas of informatics, computer engineering, and mathematics. As of May 2018, the Dean of the Faculty is Associate Professor Paulius Drungilas, a long-time academic at Vilnius University and one of the University’s youngest professors. According to Professor Drungilas, more than 90 % of all students at MIF are state-financed, and are thus the best secondary education graduates of their generation.\""
   ]
  },
  {
   "cell_type": "markdown",
   "metadata": {},
   "source": [
    "#### 1. Print the units of the third sentence, the Part-of-Speech (POS) tag, the fine-grained TAG tag, and their description. Perform the task using the SpaCy library"
   ]
  },
  {
   "cell_type": "code",
   "execution_count": 11,
   "metadata": {},
   "outputs": [
    {
     "name": "stdout",
     "output_type": "stream",
     "text": [
      "Doctoral     ADJ      JJ     adjective (English), other noun-modifier (Chinese)\n",
      "studies      NOUN     NNS    noun, plural\n",
      "are          AUX      VBP    verb, non-3rd person singular present\n",
      "conducted    VERB     VBN    verb, past participle\n",
      "in           ADP      IN     conjunction, subordinating or preposition\n",
      "the          DET      DT     determiner\n",
      "areas        NOUN     NNS    noun, plural\n",
      "of           ADP      IN     conjunction, subordinating or preposition\n",
      "informatics  NOUN     NNS    noun, plural\n",
      ",            PUNCT    ,      punctuation mark, comma\n",
      "computer     NOUN     NN     noun, singular or mass\n",
      "engineering  NOUN     NN     noun, singular or mass\n",
      ",            PUNCT    ,      punctuation mark, comma\n",
      "and          CCONJ    CC     conjunction, coordinating\n",
      "mathematics  NOUN     NNS    noun, plural\n",
      ".            PUNCT    .      punctuation mark, sentence closer\n"
     ]
    }
   ],
   "source": [
    "nlp = spacy.load(\"en_core_web_sm\")\n",
    "doc = nlp(text)\n",
    "third_sentence = list(doc.sents)[2]\n",
    "\n",
    "for token in third_sentence:\n",
    "    print(f\"{token.text.ljust(12)} {token.pos_.ljust(8)} {token.tag_.ljust(6)} {spacy.explain(token.tag_)}\")\n"
   ]
  },
  {
   "cell_type": "markdown",
   "metadata": {},
   "source": [
    "#### 2. Provide the list of POS tag frequencies in the text"
   ]
  },
  {
   "cell_type": "code",
   "execution_count": 14,
   "metadata": {},
   "outputs": [
    {
     "name": "stdout",
     "output_type": "stream",
     "text": [
      "ADJ      : 6\n",
      "ADP      : 15\n",
      "ADV      : 1\n",
      "AUX      : 4\n",
      "CCONJ    : 8\n",
      "DET      : 9\n",
      "NOUN     : 21\n",
      "NUM      : 7\n",
      "PART     : 2\n",
      "PRON     : 1\n",
      "PROPN    : 28\n",
      "PUNCT    : 17\n",
      "VERB     : 5\n"
     ]
    }
   ],
   "source": [
    "nlp = spacy.load(\"en_core_web_sm\")\n",
    "doc = nlp(text)\n",
    "pos_frequencies = doc.count_by(spacy.attrs.POS)\n",
    "\n",
    "for pos in sorted(pos_frequencies):\n",
    "    pos_text = doc.vocab[pos].text\n",
    "    print(f\"{pos_text.ljust(8)} : {pos_frequencies[pos]}\")"
   ]
  },
  {
   "cell_type": "markdown",
   "metadata": {},
   "source": [
    "#### 3. Print all adjectives in the text"
   ]
  },
  {
   "cell_type": "code",
   "execution_count": 15,
   "metadata": {},
   "outputs": [
    {
     "name": "stdout",
     "output_type": "stream",
     "text": [
      "['Doctoral', 'long', 'youngest', 'more', 'best', 'secondary']\n"
     ]
    }
   ],
   "source": [
    "nlp = spacy.load(\"en_core_web_sm\")\n",
    "doc = nlp(text)\n",
    "adjectives = [token.text for token in doc if token.pos_ == \"ADJ\"]\n",
    "print(adjectives)"
   ]
  },
  {
   "cell_type": "markdown",
   "metadata": {},
   "source": [
    "#### 4. Print all prepositions in the text"
   ]
  },
  {
   "cell_type": "code",
   "execution_count": 16,
   "metadata": {},
   "outputs": [
    {
     "name": "stdout",
     "output_type": "stream",
     "text": [
      "['of', 'of', 'through', 'in', 'of', 'As', 'of', 'of', 'at', 'of', 'to', 'than', 'of', 'at', 'of']\n"
     ]
    }
   ],
   "source": [
    "\n",
    "nlp = spacy.load(\"en_core_web_sm\")\n",
    "doc = nlp(text)\n",
    "prepositions = [token.text for token in doc if token.pos_ == \"ADP\"]\n",
    "print(prepositions)"
   ]
  },
  {
   "cell_type": "markdown",
   "metadata": {},
   "source": [
    "#### 5. What percentage of tokens are verbs?"
   ]
  },
  {
   "cell_type": "code",
   "execution_count": 17,
   "metadata": {},
   "outputs": [
    {
     "name": "stdout",
     "output_type": "stream",
     "text": [
      "4.03%\n"
     ]
    }
   ],
   "source": [
    "nlp = spacy.load(\"en_core_web_sm\")\n",
    "doc = nlp(text)\n",
    "verb_count = len([token for token in doc if token.pos_ == \"VERB\"])\n",
    "percentage = (verb_count / len(doc)) * 100\n",
    "print(f\"{percentage:.2f}%\")"
   ]
  },
  {
   "cell_type": "markdown",
   "metadata": {},
   "source": [
    "#### 6. Print the tokens and POS tags of the third sentence. Perform the task using the NLTK library"
   ]
  },
  {
   "cell_type": "code",
   "execution_count": 18,
   "metadata": {
    "scrolled": true
   },
   "outputs": [
    {
     "name": "stdout",
     "output_type": "stream",
     "text": [
      "[('Doctoral', 'JJ'), ('studies', 'NNS'), ('are', 'VBP'), ('conducted', 'VBN'), ('in', 'IN'), ('the', 'DT'), ('areas', 'NNS'), ('of', 'IN'), ('informatics', 'NNS'), (',', ','), ('computer', 'NN'), ('engineering', 'NN'), (',', ','), ('and', 'CC'), ('mathematics', 'NNS'), ('.', '.')]\n"
     ]
    }
   ],
   "source": [
    "from nltk.tokenize import word_tokenize, sent_tokenize\n",
    "from nltk import pos_tag\n",
    "\n",
    "sentences = sent_tokenize(text)\n",
    "pos_tags_third_sentence = pos_tag(word_tokenize(sentences[2]))\n",
    "print(pos_tags_third_sentence)"
   ]
  },
  {
   "cell_type": "markdown",
   "metadata": {},
   "source": [
    "#### 7. Remove all cardinal numbers from the given text"
   ]
  },
  {
   "cell_type": "code",
   "execution_count": 19,
   "metadata": {
    "scrolled": true
   },
   "outputs": [
    {
     "name": "stdout",
     "output_type": "stream",
     "text": [
      "The Faculty of Mathematics and Informatics of Vilnius University delivers teaching and research through institutes : Data Science and Digital Technologies , Computer Science , Mathematics , and Applied Mathematics . The Faculty offers bachelor ’ s and master ’ s courses . Doctoral studies are conducted in the areas of informatics , computer engineering , and mathematics . As of May , the Dean of the Faculty is Associate Professor Paulius Drungilas , a long-time academic at Vilnius University and of the University ’ s youngest professors . According to Professor Drungilas , more than % of all students at MIF are state-financed , and are thus the best secondary education graduates of their generation .\n"
     ]
    }
   ],
   "source": [
    "from nltk.tokenize import word_tokenize\n",
    "from nltk import pos_tag\n",
    "\n",
    "pos_tags_text = pos_tag(word_tokenize(text))\n",
    "text_without_numbers = \" \".join(word for word, pos in pos_tags_text if pos != 'CD')\n",
    "print(text_without_numbers)"
   ]
  }
 ],
 "metadata": {
  "kernelspec": {
   "display_name": "Python 3 (ipykernel)",
   "language": "python",
   "name": "python3"
  },
  "language_info": {
   "codemirror_mode": {
    "name": "ipython",
    "version": 3
   },
   "file_extension": ".py",
   "mimetype": "text/x-python",
   "name": "python",
   "nbconvert_exporter": "python",
   "pygments_lexer": "ipython3",
   "version": "3.8.18"
  }
 },
 "nbformat": 4,
 "nbformat_minor": 2
}
